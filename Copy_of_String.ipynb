{
  "cells": [
    {
      "cell_type": "markdown",
      "metadata": {
        "id": "view-in-github",
        "colab_type": "text"
      },
      "source": [
        "<a href=\"https://colab.research.google.com/github/ashu7352/ASSIGNMENT-1-OPERATORS-LOOPS/blob/main/Copy_of_String.ipynb\" target=\"_parent\"><img src=\"https://colab.research.google.com/assets/colab-badge.svg\" alt=\"Open In Colab\"/></a>"
      ]
    },
    {
      "cell_type": "markdown",
      "id": "12e2df18",
      "metadata": {
        "id": "12e2df18"
      },
      "source": [
        "## STRING\n",
        "\n",
        "A string is a seqence of characters\n",
        "'' or '' '' or ''' '''\n",
        "strings are ordered, that means we can index[] or do slicing []\n",
        "strings are imutable(cannot be changed once created)"
      ]
    },
    {
      "cell_type": "markdown",
      "id": "b60808a3",
      "metadata": {
        "id": "b60808a3"
      },
      "source": [
        "# How to create a string in Python?\n",
        "\n",
        "Strings can be created by enclosing characters inside a single quote or double-quotes. Even triple quotes can be used in Python but generally used to represent multiline strings and docstrings.\n"
      ]
    },
    {
      "cell_type": "code",
      "execution_count": null,
      "id": "7f60b44d",
      "metadata": {
        "id": "7f60b44d",
        "outputId": "e2dc7149-b4b2-4a06-cfd3-10d4cc8dd199"
      },
      "outputs": [
        {
          "name": "stdout",
          "output_type": "stream",
          "text": [
            "Hello\n",
            "Hello\n",
            "Hello\n",
            "Hello, welcome to\n",
            "           the world of Python\n"
          ]
        }
      ],
      "source": [
        "# defining strings in Python\n",
        "# all of the following are equivalent\n",
        "my_string = 'Hello'\n",
        "print(my_string)\n",
        "\n",
        "my_string = \"Hello\"\n",
        "print(my_string)\n",
        "\n",
        "my_string = '''Hello'''\n",
        "print(my_string)\n",
        "\n",
        "# triple quotes string can extend multiple lines\n",
        "my_string = \"\"\"Hello, welcome to\n",
        "           the world of Python\"\"\"\n",
        "print(my_string)"
      ]
    },
    {
      "cell_type": "markdown",
      "id": "3340fd31",
      "metadata": {
        "id": "3340fd31"
      },
      "source": [
        "# HOW to Access the string?\n",
        "\n",
        "We can access individual characters using indexing and a range of characters using slicing. Index starts from 0. Trying to access a character out of index range will raise an IndexError. The index must be an integer. We can't use floats or other types, this will result into TypeError.\n",
        "\n",
        "Python allows negative indexing for its sequences.\n",
        "\n",
        "The index of -1 refers to the last item, -2 to the second last item and so on. We can access a range of items in a string by using the slicing operator :(colon)\n"
      ]
    },
    {
      "cell_type": "code",
      "execution_count": null,
      "id": "7289b604",
      "metadata": {
        "id": "7289b604",
        "outputId": "ba8a76d7-7cdf-4bf0-e23a-74c72a51c3d1"
      },
      "outputs": [
        {
          "name": "stdout",
          "output_type": "stream",
          "text": [
            "str =  Data science\n",
            "str[0] =  D\n",
            "str[-1] =  e\n",
            "str[1:5] =  ata \n",
            "str[5:-2] =  scien\n"
          ]
        }
      ],
      "source": [
        "#Accessing string characters in Python\n",
        "str = 'Data science'\n",
        "print('str = ', str)\n",
        "\n",
        "#first character\n",
        "print('str[0] = ', str[0])\n",
        "\n",
        "#last character\n",
        "print('str[-1] = ', str[-1])\n",
        "\n",
        "#slicing 2nd to 5th character\n",
        "print('str[1:5] = ', str[1:5])\n",
        "\n",
        "#slicing 6th to 2nd last character\n",
        "print('str[5:-2] = ', str[5:-2])"
      ]
    },
    {
      "cell_type": "markdown",
      "id": "5a7646eb",
      "metadata": {
        "id": "5a7646eb"
      },
      "source": [
        "# Python String Operations\n",
        "\n",
        "\n",
        "Joining of two or more strings into a single one is called concatenation.\n",
        "\n",
        "The + operator does this in Python. Simply writing two string literals together also concatenates them.\n",
        "\n",
        "The * operator can be used to repeat the string for a given number of times.\n",
        "\n"
      ]
    },
    {
      "cell_type": "code",
      "execution_count": null,
      "id": "c43f5587",
      "metadata": {
        "id": "c43f5587",
        "outputId": "3a51cf12-7ecc-4d64-c802-0633a167a623"
      },
      "outputs": [
        {
          "data": {
            "text/plain": [
              "'Data Science'"
            ]
          },
          "execution_count": 4,
          "metadata": {},
          "output_type": "execute_result"
        }
      ],
      "source": [
        "# 1. concatenation of two strings\n",
        "\n",
        "str1= \"Data\"\n",
        "str2= \"Science\"\n",
        "\n",
        "result=str1+\" \"+str2\n",
        "result"
      ]
    },
    {
      "cell_type": "code",
      "execution_count": null,
      "id": "e3f8c1cb",
      "metadata": {
        "id": "e3f8c1cb",
        "outputId": "0bc26775-a39b-4ea6-fed0-ccc5b501c62c"
      },
      "outputs": [
        {
          "name": "stdout",
          "output_type": "stream",
          "text": [
            "DataDataDataDataData\n"
          ]
        }
      ],
      "source": [
        "print(str1*5)"
      ]
    },
    {
      "cell_type": "markdown",
      "id": "6aa3e615",
      "metadata": {
        "id": "6aa3e615"
      },
      "source": [
        "# Iterating through a string"
      ]
    },
    {
      "cell_type": "code",
      "execution_count": null,
      "id": "db1e95c6",
      "metadata": {
        "id": "db1e95c6",
        "outputId": "0190c27a-03a6-42e4-9544-b1e22ec0199f"
      },
      "outputs": [
        {
          "name": "stdout",
          "output_type": "stream",
          "text": [
            "A\n",
            "p\n",
            "p\n",
            "l\n",
            "e\n"
          ]
        }
      ],
      "source": [
        "word =\"Apple\"\n",
        "for i in word:\n",
        "    print(i)"
      ]
    },
    {
      "cell_type": "markdown",
      "id": "3c089f39",
      "metadata": {
        "id": "3c089f39"
      },
      "source": [
        "# String inbuilt() functions:"
      ]
    },
    {
      "cell_type": "markdown",
      "id": "bdd7122d",
      "metadata": {
        "id": "bdd7122d"
      },
      "source": [
        "1. lower()\n",
        "\n",
        "def- conver all characters wchich are in uppercase to lower case.\n",
        "\n",
        "syntax - string.lower()\n",
        "\n",
        "parametrs-no parameters\n",
        "\n",
        "return- returns a string in lower case"
      ]
    },
    {
      "cell_type": "code",
      "execution_count": null,
      "id": "a6067dbe",
      "metadata": {
        "id": "a6067dbe",
        "outputId": "eed3f9e2-047a-4bf7-ffd6-060ce155c8c0"
      },
      "outputs": [
        {
          "data": {
            "text/plain": [
              "'this should be in lowercase'"
            ]
          },
          "execution_count": 7,
          "metadata": {},
          "output_type": "execute_result"
        }
      ],
      "source": [
        "example_1=\"THIS SHOULD BE IN LOWERCASE\"\n",
        "example_1.lower()"
      ]
    },
    {
      "cell_type": "markdown",
      "id": "7c800f3d",
      "metadata": {
        "id": "7c800f3d"
      },
      "source": [
        "2. islower()\n",
        "\n",
        "def- the method returns true if all aplhabets are in lowercase else false\n",
        "\n",
        "syntax- string.islower()\n",
        "\n",
        "parameter-no\n",
        "\n",
        "return- bool value ie True or false"
      ]
    },
    {
      "cell_type": "code",
      "execution_count": null,
      "id": "67035685",
      "metadata": {
        "id": "67035685",
        "outputId": "542c17ee-ae79-477c-f430-94946ea51bab"
      },
      "outputs": [
        {
          "data": {
            "text/plain": [
              "False"
            ]
          },
          "execution_count": 8,
          "metadata": {},
          "output_type": "execute_result"
        }
      ],
      "source": [
        "example_second=\" This is good\"\n",
        "example_second.islower()   # Bcz all characters are not lower"
      ]
    },
    {
      "cell_type": "markdown",
      "id": "a31a075d",
      "metadata": {
        "id": "a31a075d"
      },
      "source": [
        "3. Upper()\n",
        "\n",
        "def- the method returns a string with all uppercase char\n",
        "\n",
        "syntax- string.upper()\n",
        "\n",
        "parameter-no\n",
        "\n",
        "return- uppercase string\n"
      ]
    },
    {
      "cell_type": "code",
      "execution_count": null,
      "id": "38aa0c39",
      "metadata": {
        "id": "38aa0c39",
        "outputId": "5eb31dc0-73df-4fb7-a360-9d411e42cada"
      },
      "outputs": [
        {
          "data": {
            "text/plain": [
              "'THIS IS GOOD'"
            ]
          },
          "execution_count": 1,
          "metadata": {},
          "output_type": "execute_result"
        }
      ],
      "source": [
        "example_second=\"this is good\"\n",
        "example_second.upper()"
      ]
    },
    {
      "cell_type": "markdown",
      "id": "25290e5c",
      "metadata": {
        "id": "25290e5c"
      },
      "source": [
        "4.isupper()\n",
        "\n",
        "def- the method returns True if all the char are in uppercase\n",
        "\n",
        "syntax- string.isupper()\n",
        "\n",
        "parameter-no\n",
        "\n",
        "return- True if the string is in uppercase else false"
      ]
    },
    {
      "cell_type": "code",
      "execution_count": null,
      "id": "e27fedbb",
      "metadata": {
        "id": "e27fedbb",
        "outputId": "dd2fb16e-4364-45f3-b0b9-a5065206a7b2"
      },
      "outputs": [
        {
          "data": {
            "text/plain": [
              "True"
            ]
          },
          "execution_count": 2,
          "metadata": {},
          "output_type": "execute_result"
        }
      ],
      "source": [
        "example_three='THIS IS GOOD'\n",
        "example_three.isupper()"
      ]
    },
    {
      "cell_type": "code",
      "execution_count": null,
      "id": "78f0b8e3",
      "metadata": {
        "id": "78f0b8e3"
      },
      "outputs": [],
      "source": [
        "5. Capitalize()\n",
        "\n",
        "def- the method returns string wch has the first char in upercase.\n",
        "\n",
        "syntax- string.capitalize()\n",
        "\n",
        "parameter-no\n",
        "\n",
        "return- a string with first letter or char in uppercase"
      ]
    },
    {
      "cell_type": "code",
      "execution_count": null,
      "id": "0b9a104b",
      "metadata": {
        "id": "0b9a104b",
        "outputId": "716605e4-c44e-45b2-b79c-0408a72a5780"
      },
      "outputs": [
        {
          "data": {
            "text/plain": [
              "'I love python'"
            ]
          },
          "execution_count": 3,
          "metadata": {},
          "output_type": "execute_result"
        }
      ],
      "source": [
        "sentence= \"i love Python\"\n",
        "sentence.capitalize()     # string with first letter capital all letter will be small"
      ]
    },
    {
      "cell_type": "markdown",
      "id": "1893c861",
      "metadata": {
        "id": "1893c861"
      },
      "source": [
        "6. Count()\n",
        "\n",
        "def- returns the no of occurrences of a substring in given string\n",
        "\n",
        "syntax- string.count()\n",
        "\n",
        "parameter-substring- string whos count needs to be found - start(optional) - staring index of string where search starts -end(optional) -ending index of string where search ends\n",
        "\n",
        "return- returns the no of occurrences substring in given string"
      ]
    },
    {
      "cell_type": "code",
      "execution_count": null,
      "id": "8a4994c5",
      "metadata": {
        "id": "8a4994c5",
        "outputId": "a310afca-1412-4ab6-8cc0-f8dbcbc49f3a"
      },
      "outputs": [
        {
          "data": {
            "text/plain": [
              "3"
            ]
          },
          "execution_count": 4,
          "metadata": {},
          "output_type": "execute_result"
        }
      ],
      "source": [
        "messge=\"Python is very popular programming language and Python is easy to learn\"\n",
        "messge.count(\"p\") "
      ]
    },
    {
      "cell_type": "markdown",
      "id": "1c2cd825",
      "metadata": {
        "id": "1c2cd825"
      },
      "source": [
        "7. find()\n",
        "\n",
        "def- find method returns the index of first occurrance of the substring(if found) and if not found then return -1\n",
        "\n",
        "syntax- string.find()\n",
        "\n",
        "parameter-substring- string which needs to be searched - start(optional) - staring index of string where search starts -end(optional) -ending index of string where serach ends\n",
        "\n",
        "return- returns the index if found and if not then -1"
      ]
    },
    {
      "cell_type": "code",
      "execution_count": null,
      "id": "3dac0a20",
      "metadata": {
        "id": "3dac0a20",
        "outputId": "421b9912-42ec-49dd-ef7a-67fd7c2c69ea"
      },
      "outputs": [
        {
          "data": {
            "text/plain": [
              "15"
            ]
          },
          "execution_count": 7,
          "metadata": {},
          "output_type": "execute_result"
        }
      ],
      "source": [
        "messge=\"Python is very popular programming language and Python is easy to learn\"\n",
        "\n",
        "messge.find(\"p\")   # it will gave the first index position in the string"
      ]
    },
    {
      "cell_type": "code",
      "execution_count": null,
      "id": "6324a20c",
      "metadata": {
        "id": "6324a20c",
        "outputId": "de5873f4-b60c-455d-b9c2-8fabd772636a"
      },
      "outputs": [
        {
          "data": {
            "text/plain": [
              "17"
            ]
          },
          "execution_count": 8,
          "metadata": {},
          "output_type": "execute_result"
        }
      ],
      "source": [
        "messge.find(\"p\",16,71)  # here we have to search index value from 16 position so here we use 16 as an index"
      ]
    },
    {
      "cell_type": "code",
      "execution_count": null,
      "id": "9e8d6088",
      "metadata": {
        "id": "9e8d6088",
        "outputId": "6407765e-a529-4b4e-faa4-f1e944efb4cc"
      },
      "outputs": [
        {
          "data": {
            "text/plain": [
              "-1"
            ]
          },
          "execution_count": 9,
          "metadata": {},
          "output_type": "execute_result"
        }
      ],
      "source": [
        "messge.find(\"z\") # here z is not found in this message so it returns as -1"
      ]
    },
    {
      "cell_type": "markdown",
      "id": "6bf6a9e6",
      "metadata": {
        "id": "6bf6a9e6"
      },
      "source": [
        "8.Index ()\n",
        "\n",
        "def - method returns the index of a substring inside the string but if not found rasie the exception\n",
        "\n",
        "syntax- string.index()\n",
        "\n",
        "parameter-substring- string which needs to be searched - start(optional) - staring index of string where search starts -end(optional) -ending index of string where serach ends\n",
        "\n",
        "returns- index if found and exception if not found"
      ]
    },
    {
      "cell_type": "code",
      "execution_count": null,
      "id": "cd7dbe99",
      "metadata": {
        "id": "cd7dbe99",
        "outputId": "dd86d8d3-dff0-4431-d71f-d4e670d76727"
      },
      "outputs": [
        {
          "data": {
            "text/plain": [
              "7"
            ]
          },
          "execution_count": 10,
          "metadata": {},
          "output_type": "execute_result"
        }
      ],
      "source": [
        "text= \"python is fun\"\n",
        "text.index(\"is\",0,10)"
      ]
    },
    {
      "cell_type": "code",
      "execution_count": null,
      "id": "67b9e2b0",
      "metadata": {
        "id": "67b9e2b0",
        "outputId": "f81da1ef-9525-4242-f1cc-b1c380fee42f"
      },
      "outputs": [
        {
          "ename": "ValueError",
          "evalue": "substring not found",
          "output_type": "error",
          "traceback": [
            "\u001b[1;31m---------------------------------------------------------------------------\u001b[0m",
            "\u001b[1;31mValueError\u001b[0m                                Traceback (most recent call last)",
            "Cell \u001b[1;32mIn[11], line 1\u001b[0m\n\u001b[1;32m----> 1\u001b[0m \u001b[43mtext\u001b[49m\u001b[38;5;241;43m.\u001b[39;49m\u001b[43mindex\u001b[49m\u001b[43m(\u001b[49m\u001b[38;5;124;43m\"\u001b[39;49m\u001b[38;5;124;43mz\u001b[39;49m\u001b[38;5;124;43m\"\u001b[39;49m\u001b[43m)\u001b[49m\n",
            "\u001b[1;31mValueError\u001b[0m: substring not found"
          ]
        }
      ],
      "source": [
        "text.index(\"z\") \n"
      ]
    },
    {
      "cell_type": "markdown",
      "id": "1b7acf24",
      "metadata": {
        "id": "1b7acf24"
      },
      "source": [
        "9. Center()\n",
        "\n",
        "def- method returns a new centered string after padding it with specified characters.\n",
        "\n",
        "syntax- string.centre() \n",
        "\n",
        "parameters- width- length of the string with padded characters fillchar(optional)-padding character\n",
        "\n",
        "returns- a string padded with specfied fill char\n",
        "\n",
        "#note- the center method doesnt modify the orginal string"
      ]
    },
    {
      "cell_type": "code",
      "execution_count": null,
      "id": "ce890336",
      "metadata": {
        "id": "ce890336",
        "outputId": "686b4847-10b0-42f7-b744-ab9c0c84752c"
      },
      "outputs": [
        {
          "name": "stdout",
          "output_type": "stream",
          "text": [
            "                      python                      \n",
            "**********************python**********************\n"
          ]
        }
      ],
      "source": [
        "my_txt=\"python\"\n",
        "print(my_txt.center(50))\n",
        "print(my_txt.center(50,\"*\"))\n"
      ]
    },
    {
      "cell_type": "markdown",
      "id": "b4162505",
      "metadata": {
        "id": "b4162505"
      },
      "source": [
        "10. endswith()\n",
        "\n",
        "def- The method returns True if the strings end with the specfied suffix, if not then false\n",
        "\n",
        "syntax-string.endswith(\n",
        "\n",
        "parameter-suffix- string to be checked start end\n",
        "\n",
        "returns- True and fasle"
      ]
    },
    {
      "cell_type": "code",
      "execution_count": null,
      "id": "7b99d80d",
      "metadata": {
        "id": "7b99d80d",
        "outputId": "cebe2b82-780b-40b4-fbd3-2ece500e4083"
      },
      "outputs": [
        {
          "data": {
            "text/plain": [
              "True"
            ]
          },
          "execution_count": 12,
          "metadata": {},
          "output_type": "execute_result"
        }
      ],
      "source": [
        "website_name=\"www.instagram.com\"\n",
        "website_name.endswith(\".com\")"
      ]
    },
    {
      "cell_type": "markdown",
      "id": "c4a631cd",
      "metadata": {
        "id": "c4a631cd"
      },
      "source": [
        "11. Startswith()\n",
        " \n",
        "def- The method returns True if the strings end with the specfied suffix, if not then false\n",
        "\n",
        "syntax-string.Startswith()\n",
        "\n",
        "parameter-suffix- string to be checked start end\n",
        "\n",
        "returns- True and fasle"
      ]
    },
    {
      "cell_type": "code",
      "execution_count": null,
      "id": "5329cee4",
      "metadata": {
        "id": "5329cee4",
        "outputId": "07f2c4d3-f5de-4636-c3f2-3c4b698df847"
      },
      "outputs": [
        {
          "data": {
            "text/plain": [
              "True"
            ]
          },
          "execution_count": 13,
          "metadata": {},
          "output_type": "execute_result"
        }
      ],
      "source": [
        "website_name=\"www.instagram.com\"\n",
        "website_name.startswith(\"www.\")"
      ]
    },
    {
      "cell_type": "markdown",
      "id": "b4adce42",
      "metadata": {
        "id": "b4adce42"
      },
      "source": [
        "12. split()\n",
        "\n",
        "string -list -----split()\n",
        "\n",
        "list - string -----join()\n",
        "\n",
        "def - Method breaks up a string at specified separator and returns a list of string\n",
        "\n",
        "parameters- Separator-delimiter at wch splits occurs maxsplit- max no of splits\n",
        "\n",
        "retun- list of strings\n",
        "\n"
      ]
    },
    {
      "cell_type": "code",
      "execution_count": null,
      "id": "e4fba43a",
      "metadata": {
        "id": "e4fba43a",
        "outputId": "f35e0034-b80f-410e-8542-88a74697d666"
      },
      "outputs": [
        {
          "data": {
            "text/plain": [
              "['python', 'is', 'a', 'fun', 'programming', 'language']"
            ]
          },
          "execution_count": 14,
          "metadata": {},
          "output_type": "execute_result"
        }
      ],
      "source": [
        "text=\"python is a fun programming language\"\n",
        "text.split(\" \")"
      ]
    },
    {
      "cell_type": "code",
      "execution_count": null,
      "id": "9f320573",
      "metadata": {
        "id": "9f320573",
        "outputId": "21b3eebc-5ed9-4b9a-86cd-a6ad2f547d2c"
      },
      "outputs": [
        {
          "name": "stdout",
          "output_type": "stream",
          "text": [
            "<class 'str'>\n",
            "['python', 'is', 'a', 'fun programming language']\n",
            "<class 'list'>\n"
          ]
        }
      ],
      "source": [
        "text=\"python*is*a*fun programming language\"\n",
        "print(type(text))\n",
        "a=text.split(\"*\")  # here we pass * as a arg with split so * will remove and new list is formed\n",
        "print(a)\n",
        "print(type(a))"
      ]
    },
    {
      "cell_type": "code",
      "execution_count": null,
      "id": "3e0eb5fe",
      "metadata": {
        "id": "3e0eb5fe",
        "outputId": "a9da170e-9cec-4806-a317-772b188a2bb0"
      },
      "outputs": [
        {
          "data": {
            "text/plain": [
              "['D', 'a', 't', 'a', 's', 'c', 'i', 'e', 'n', 'c', 'e']"
            ]
          },
          "execution_count": 16,
          "metadata": {},
          "output_type": "execute_result"
        }
      ],
      "source": [
        "my_subject=\"Datascience\"\n",
        "list(my_subject)"
      ]
    },
    {
      "cell_type": "markdown",
      "id": "b0a7f91f",
      "metadata": {
        "id": "b0a7f91f"
      },
      "source": [
        "13. Splitlines()\n",
        "\n",
        "<Methods slits the string at line breaks and returs a list of lines in the string --> -->"
      ]
    },
    {
      "cell_type": "code",
      "execution_count": null,
      "id": "a6e53a7f",
      "metadata": {
        "id": "a6e53a7f",
        "outputId": "6817e0ed-4cdf-433e-a8c6-39bc6b7aa554"
      },
      "outputs": [
        {
          "name": "stdout",
          "output_type": "stream",
          "text": [
            "Milk\n",
            "Bread\n",
            "butter\n"
          ]
        }
      ],
      "source": [
        "Our_grocery=\"Milk\\nBread\\nbutter\"\n",
        "print(Our_grocery)"
      ]
    },
    {
      "cell_type": "code",
      "execution_count": null,
      "id": "bf3bb2a4",
      "metadata": {
        "id": "bf3bb2a4",
        "outputId": "7a002915-e3c7-42a7-a2b7-f3630d330d1f"
      },
      "outputs": [
        {
          "data": {
            "text/plain": [
              "['Milk', 'Bread', 'butter']"
            ]
          },
          "execution_count": 18,
          "metadata": {},
          "output_type": "execute_result"
        }
      ],
      "source": [
        "Our_grocery.splitlines() # so it will returns a list of lines"
      ]
    },
    {
      "cell_type": "markdown",
      "id": "e4ef0784",
      "metadata": {
        "id": "e4ef0784"
      },
      "source": [
        "14. strip()\n",
        "\n",
        "def- the method returns a copy of the string by removing the leading and trailing characters(based on the subvstring passed)\n",
        "​\n",
        "parameter- Char deafult-space\n",
        "​\n",
        "return-\n",
        "​"
      ]
    },
    {
      "cell_type": "code",
      "execution_count": null,
      "id": "a6760bb7",
      "metadata": {
        "id": "a6760bb7",
        "outputId": "40918dab-3eea-455c-fff4-12ff77d11315"
      },
      "outputs": [
        {
          "data": {
            "text/plain": [
              "'11111123456411111111'"
            ]
          },
          "execution_count": 19,
          "metadata": {},
          "output_type": "execute_result"
        }
      ],
      "source": [
        "my_string_3=\"XXXXXX11111123456411111111XXXX\"\n",
        "\n",
        "my_string_3.strip(\"X\")"
      ]
    },
    {
      "cell_type": "code",
      "execution_count": null,
      "id": "3ff91396",
      "metadata": {
        "id": "3ff91396"
      },
      "outputs": [],
      "source": []
    }
  ],
  "metadata": {
    "kernelspec": {
      "display_name": "Python 3 (ipykernel)",
      "language": "python",
      "name": "python3"
    },
    "language_info": {
      "codemirror_mode": {
        "name": "ipython",
        "version": 3
      },
      "file_extension": ".py",
      "mimetype": "text/x-python",
      "name": "python",
      "nbconvert_exporter": "python",
      "pygments_lexer": "ipython3",
      "version": "3.10.9"
    },
    "colab": {
      "provenance": [],
      "include_colab_link": true
    }
  },
  "nbformat": 4,
  "nbformat_minor": 5
}